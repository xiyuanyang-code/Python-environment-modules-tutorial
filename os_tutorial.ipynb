{
 "cells": [
  {
   "cell_type": "markdown",
   "id": "48d8e900",
   "metadata": {},
   "source": [
    "# `os` tutorial for python"
   ]
  },
  {
   "cell_type": "code",
   "execution_count": null,
   "id": "4e116f0d",
   "metadata": {},
   "outputs": [],
   "source": [
    "import os"
   ]
  },
  {
   "cell_type": "markdown",
   "id": "01b246ba",
   "metadata": {},
   "source": [
    "`os` is a python module for using the **operating system** dependent functionality."
   ]
  },
  {
   "cell_type": "markdown",
   "id": "032d7e32",
   "metadata": {},
   "source": [
    "## Use `os` module to query relevant file information."
   ]
  },
  {
   "cell_type": "code",
   "execution_count": null,
   "id": "7fcc8dff",
   "metadata": {},
   "outputs": [],
   "source": [
    "print(os.name)\n",
    "# will return posix (Portable Operating System Interface) for unix-like system like macos and linux "
   ]
  },
  {
   "cell_type": "code",
   "execution_count": null,
   "id": "aa4bdcd0",
   "metadata": {},
   "outputs": [],
   "source": [
    "print(type(os.environ))\n",
    "\n",
    "# print all the environment settings\n",
    "print(os.environ)"
   ]
  },
  {
   "cell_type": "code",
   "execution_count": null,
   "id": "e37e108a",
   "metadata": {},
   "outputs": [],
   "source": [
    "os.chdir(\"/GPFS/rhome/xiyuanyang/python_basic/Python-environment-modules-tutorial\")\n",
    "\n",
    "# get the file location\n",
    "print(os.getcwd())\n",
    "\n",
    "# get the environment\n",
    "print(os.getenv(\"BASE_URL\"))\n",
    "\n",
    "# change the location\n",
    "os.chdir(path=\"../\")\n",
    "print(os.getcwd())"
   ]
  },
  {
   "cell_type": "markdown",
   "id": "563e32c7",
   "metadata": {},
   "source": [
    "## File operating for `os`"
   ]
  },
  {
   "cell_type": "code",
   "execution_count": null,
   "id": "480b7830",
   "metadata": {},
   "outputs": [],
   "source": [
    "os.chdir(\"/GPFS/rhome/xiyuanyang/python_basic/Python-environment-modules-tutorial\")\n",
    "\n",
    "# create a directory\n",
    "if os.path.exists(\"test\"):\n",
    "    print(\"test folder has been created!\")\n",
    "else:\n",
    "    os.makedirs(\"test\")\n",
    "\n",
    "file_name = \"example.txt\"\n",
    "if os.path.exists(file_name):\n",
    "    print(f\"{file_name} exists\")\n",
    "\n",
    "with open(file_name, 'w') as file:\n",
    "    file.write(\"This is an example file.\")\n",
    "\n",
    "# remove files and folders\n",
    "os.remove(\"example.txt\")\n",
    "os.removedirs(\"test\")\n",
    "\n",
    "# rename\n",
    "if not os.path.exists(\"2.txt\"):\n",
    "    open(\"2.txt\", 'a').close() \n",
    "\n",
    "if os.path.exists(\"1.txt\"):\n",
    "    os.remove(\"1.txt\")\n",
    "\n",
    "os.rename(src=\"2.txt\", dst=\"1.txt\")"
   ]
  },
  {
   "cell_type": "markdown",
   "id": "402fbfc4",
   "metadata": {},
   "source": [
    "**Very important**!: `os.walk` and `os.path`"
   ]
  },
  {
   "cell_type": "code",
   "execution_count": null,
   "id": "af3875e1",
   "metadata": {},
   "outputs": [],
   "source": [
    "for file in os.walk(top=\".\"):\n",
    "    print(file)"
   ]
  },
  {
   "cell_type": "markdown",
   "id": "3348bd9a",
   "metadata": {},
   "source": [
    "`os.path`: basename, dirname, exists, isdir and isfile, join, split"
   ]
  }
 ],
 "metadata": {
  "kernelspec": {
   "display_name": "base",
   "language": "python",
   "name": "python3"
  },
  "language_info": {
   "codemirror_mode": {
    "name": "ipython",
    "version": 3
   },
   "file_extension": ".py",
   "mimetype": "text/x-python",
   "name": "python",
   "nbconvert_exporter": "python",
   "pygments_lexer": "ipython3",
   "version": "3.12.9"
  }
 },
 "nbformat": 4,
 "nbformat_minor": 5
}
