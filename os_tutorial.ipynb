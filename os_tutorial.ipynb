{
 "cells": [
  {
   "cell_type": "markdown",
   "id": "48d8e900",
   "metadata": {},
   "source": [
    "# `os` tutorial for python"
   ]
  },
  {
   "cell_type": "code",
   "execution_count": null,
   "id": "4e116f0d",
   "metadata": {},
   "outputs": [],
   "source": [
    "import os"
   ]
  },
  {
   "cell_type": "markdown",
   "id": "01b246ba",
   "metadata": {},
   "source": [
    "`os` is a python module for using the **operating system** dependent functionality."
   ]
  },
  {
   "cell_type": "markdown",
   "id": "032d7e32",
   "metadata": {},
   "source": [
    "## Use `os` module to query relevant file information."
   ]
  },
  {
   "cell_type": "code",
   "execution_count": null,
   "id": "7fcc8dff",
   "metadata": {},
   "outputs": [],
   "source": [
    "print(os.name)\n",
    "# will return posix (Portable Operating System Interface) for unix-like system like macos and linux "
   ]
  },
  {
   "cell_type": "code",
   "execution_count": null,
   "id": "aa4bdcd0",
   "metadata": {},
   "outputs": [],
   "source": [
    "print(type(os.environ))\n",
    "\n",
    "# print all the environment settings\n",
    "print(os.environ)"
   ]
  },
  {
   "cell_type": "code",
   "execution_count": null,
   "id": "e37e108a",
   "metadata": {},
   "outputs": [],
   "source": [
    "os.chdir(\"/GPFS/rhome/xiyuanyang/python_basic/Python-environment-modules-tutorial\")\n",
    "\n",
    "# get the file location\n",
    "print(os.getcwd())\n",
    "\n",
    "# get the environment\n",
    "print(os.getenv(\"BASE_URL\"))\n",
    "\n",
    "# change the location\n",
    "os.chdir(path=\"../\")\n",
    "print(os.getcwd())"
   ]
  },
  {
   "cell_type": "markdown",
   "id": "563e32c7",
   "metadata": {},
   "source": [
    "## File operating for `os`"
   ]
  },
  {
   "cell_type": "markdown",
   "id": "df521278",
   "metadata": {},
   "source": [
    "You can use the `os` library to perform basic file operations, including deleting and creating files and folders.\n",
    "\n",
    "- `os.chdir()`: change the current directory.\n",
    "\n",
    "- `os.makedirs()`: create a new directory.\n",
    "\n",
    "- `os.remove()` & `os.removedirs()` : remove the file or the directory.\n",
    "\n",
    "- `os.rename()`: rename the directory.\n",
    "\n",
    "- `open(file_name, 'a').close()` can be used to create a new file."
   ]
  },
  {
   "cell_type": "code",
   "execution_count": null,
   "id": "480b7830",
   "metadata": {},
   "outputs": [],
   "source": [
    "os.chdir(\"/GPFS/rhome/xiyuanyang/python_basic/Python-environment-modules-tutorial\")\n",
    "\n",
    "# create a directory\n",
    "if os.path.exists(\"test\"):\n",
    "    print(\"test folder has been created!\")\n",
    "else:\n",
    "    os.makedirs(\"test\")\n",
    "\n",
    "file_name = \"example.txt\"\n",
    "if os.path.exists(file_name):\n",
    "    print(f\"{file_name} exists\")\n",
    "\n",
    "with open(file_name, 'w') as file:\n",
    "    file.write(\"This is an example file.\")\n",
    "\n",
    "# remove files and folders\n",
    "os.remove(\"example.txt\")\n",
    "os.removedirs(\"test\")\n",
    "\n",
    "# rename\n",
    "if not os.path.exists(\"2.txt\"):\n",
    "    open(\"2.txt\", 'a').close() \n",
    "\n",
    "if os.path.exists(\"1.txt\"):\n",
    "    os.remove(\"1.txt\")\n",
    "\n",
    "os.rename(src=\"2.txt\", dst=\"1.txt\")"
   ]
  },
  {
   "cell_type": "markdown",
   "id": "14312d6b",
   "metadata": {},
   "source": [
    "Well, actually if you are familiar with bash commands, there is no need for you to learn these again!"
   ]
  },
  {
   "cell_type": "code",
   "execution_count": null,
   "id": "40b66dba",
   "metadata": {},
   "outputs": [],
   "source": [
    "os.system(\"echo 1\")\n",
    "os.system(\"pwd\")\n",
    "os.system(\"mkdir test\")\n",
    "os.system(\"ls\")\n",
    "os.system(\"rm -rf test\")"
   ]
  },
  {
   "cell_type": "markdown",
   "id": "402fbfc4",
   "metadata": {},
   "source": [
    "## `os.walk` and `os.path`\n",
    "\n",
    "Very important! Most frequently used!"
   ]
  },
  {
   "cell_type": "markdown",
   "id": "d0f8f436",
   "metadata": {},
   "source": [
    "### `os.walk()`\n",
    "\n",
    "If you want to walk through all the files and directories in a certain directory, you can use `os.walk()` to traverse."
   ]
  },
  {
   "cell_type": "code",
   "execution_count": null,
   "id": "1e446cd1",
   "metadata": {},
   "outputs": [],
   "source": [
    "help(os.walk)"
   ]
  },
  {
   "cell_type": "code",
   "execution_count": null,
   "id": "af3875e1",
   "metadata": {},
   "outputs": [],
   "source": [
    "# Traverse current directory and subdirectories\n",
    "for root, dirs, files in os.walk('.'):\n",
    "    print(f\"Current directory: {root}\")\n",
    "    print(f\"Subdirectories: {dirs}\")\n",
    "    print(f\"Files: {files}\")\n",
    "    print(\"-\" * 40)"
   ]
  },
  {
   "cell_type": "markdown",
   "id": "3348bd9a",
   "metadata": {},
   "source": [
    "### `os.path`"
   ]
  },
  {
   "cell_type": "code",
   "execution_count": null,
   "id": "dac78a71",
   "metadata": {},
   "outputs": [],
   "source": [
    "# path joining: it will automatically combine the two adddress together.\n",
    "path_1 = \"/GPFS/rhome/xiyuanyang/python_basic/\"\n",
    "path_2 = \"Python-environment-modules-tutorial/helloworld.txt\"\n",
    "new_path = os.path.join(path_1, path_2)\n",
    "print(new_path)\n",
    "\n",
    "# path split\n",
    "dir, file = os.path.split(new_path)\n",
    "print(dir, file)\n",
    "\n",
    "assert os.path.isdir(dir) and os.path.isfile(file)\n",
    "\n",
    "# path exists\n",
    "open(new_path, \"a\").close()\n",
    "assert os.path.exists(new_path)\n",
    "print(f\"size: {os.path.getsize(new_path)}\")\n",
    "\n",
    "# print all kinds of names\n",
    "print(new_path)\n",
    "print(os.path.basename(new_path))\n",
    "print(os.path.dirname(new_path))"
   ]
  },
  {
   "cell_type": "markdown",
   "id": "0d5ab33b",
   "metadata": {},
   "source": [
    "Now, you can combine `os.walk()` and `os.path()` together to implement a small `grep` command!"
   ]
  },
  {
   "cell_type": "code",
   "execution_count": null,
   "id": "e18c1cab",
   "metadata": {},
   "outputs": [],
   "source": [
    "# Find files with specific extension\n",
    "def find_files(extension, search_path):\n",
    "    for root, dirs, files in os.walk(search_path):\n",
    "        # files is a list!\n",
    "        for file in files:\n",
    "            print(f\"root: {root}\")\n",
    "            print(f\"dirs: {dirs}\")\n",
    "            print(f\"file: {file}\")\n",
    "            print(f\"files: {files}\")\n",
    "            if file.endswith(extension):\n",
    "                full_path = os.path.join(root, file)\n",
    "                print(f\"Found file: {full_path}\")\n",
    "                print(f\"Size: {os.path.getsize(full_path)} bytes\")\n",
    "\n",
    "find_files('.ipynb', '.')"
   ]
  }
 ],
 "metadata": {
  "kernelspec": {
   "display_name": "base",
   "language": "python",
   "name": "python3"
  },
  "language_info": {
   "codemirror_mode": {
    "name": "ipython",
    "version": 3
   },
   "file_extension": ".py",
   "mimetype": "text/x-python",
   "name": "python",
   "nbconvert_exporter": "python",
   "pygments_lexer": "ipython3",
   "version": "3.12.9"
  }
 },
 "nbformat": 4,
 "nbformat_minor": 5
}
